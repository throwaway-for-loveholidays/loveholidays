{
 "cells": [
  {
   "cell_type": "markdown",
   "id": "670afcb8",
   "metadata": {},
   "source": [
    "Please note that I'd usually first screen the data via tools like ydata-profiling, which is a check not performed in this sample code."
   ]
  },
  {
   "cell_type": "markdown",
   "id": "89e2377d",
   "metadata": {},
   "source": [
    "# Module imports"
   ]
  },
  {
   "cell_type": "code",
   "execution_count": 55,
   "id": "f7222b8f",
   "metadata": {},
   "outputs": [],
   "source": [
    "import os\n",
    "import pandas as pd\n",
    "import sys\n",
    "\n",
    "from sklearn.model_selection import train_test_split\n"
   ]
  },
  {
   "cell_type": "code",
   "execution_count": 56,
   "id": "7c2b662d",
   "metadata": {},
   "outputs": [],
   "source": [
    "# Add the src folder to the path\n",
    "sys.path.append(os.path.join(os.path.dirname(os.getcwd()), 'src'))"
   ]
  },
  {
   "cell_type": "code",
   "execution_count": 57,
   "id": "c2fc3c3e",
   "metadata": {},
   "outputs": [],
   "source": [
    "import utils.data_validation as utils_dataval"
   ]
  },
  {
   "cell_type": "markdown",
   "id": "ddd4d86b",
   "metadata": {},
   "source": [
    "# Constants"
   ]
  },
  {
   "cell_type": "code",
   "execution_count": 58,
   "id": "1f031c4d",
   "metadata": {},
   "outputs": [],
   "source": [
    "TRAIN_PROP = 0.8\n",
    "RANDOM_STATE = 42"
   ]
  },
  {
   "cell_type": "markdown",
   "id": "aba7cb22",
   "metadata": {},
   "source": [
    "# Load data"
   ]
  },
  {
   "cell_type": "code",
   "execution_count": 59,
   "id": "b7054c61",
   "metadata": {},
   "outputs": [],
   "source": [
    "df = pd.read_csv('../data/model_df.csv')"
   ]
  },
  {
   "cell_type": "code",
   "execution_count": 60,
   "id": "78d42ea9",
   "metadata": {},
   "outputs": [
    {
     "data": {
      "text/html": [
       "<div>\n",
       "<style scoped>\n",
       "    .dataframe tbody tr th:only-of-type {\n",
       "        vertical-align: middle;\n",
       "    }\n",
       "\n",
       "    .dataframe tbody tr th {\n",
       "        vertical-align: top;\n",
       "    }\n",
       "\n",
       "    .dataframe thead th {\n",
       "        text-align: right;\n",
       "    }\n",
       "</style>\n",
       "<table border=\"1\" class=\"dataframe\">\n",
       "  <thead>\n",
       "    <tr style=\"text-align: right;\">\n",
       "      <th></th>\n",
       "      <th>visitor_id</th>\n",
       "      <th>query_id</th>\n",
       "      <th>destination_id</th>\n",
       "      <th>device</th>\n",
       "      <th>language</th>\n",
       "      <th>has_been_referred</th>\n",
       "      <th>product_code</th>\n",
       "      <th>product_category</th>\n",
       "      <th>duration</th>\n",
       "      <th>ctr_14d</th>\n",
       "      <th>ctr_30d</th>\n",
       "      <th>clicked</th>\n",
       "    </tr>\n",
       "  </thead>\n",
       "  <tbody>\n",
       "    <tr>\n",
       "      <th>0</th>\n",
       "      <td>859012e3-304f-4b03-9de6-ba30d2f854df</td>\n",
       "      <td>00GwU-BJbx-OTn3</td>\n",
       "      <td>19</td>\n",
       "      <td>tablet</td>\n",
       "      <td>ja</td>\n",
       "      <td>False</td>\n",
       "      <td>19-6</td>\n",
       "      <td>8</td>\n",
       "      <td>54</td>\n",
       "      <td>0.118060</td>\n",
       "      <td>0.126892</td>\n",
       "      <td>False</td>\n",
       "    </tr>\n",
       "    <tr>\n",
       "      <th>1</th>\n",
       "      <td>859012e3-304f-4b03-9de6-ba30d2f854df</td>\n",
       "      <td>00GwU-BJbx-OTn3</td>\n",
       "      <td>19</td>\n",
       "      <td>tablet</td>\n",
       "      <td>ja</td>\n",
       "      <td>False</td>\n",
       "      <td>19-10</td>\n",
       "      <td>3</td>\n",
       "      <td>267</td>\n",
       "      <td>0.114032</td>\n",
       "      <td>0.115280</td>\n",
       "      <td>False</td>\n",
       "    </tr>\n",
       "    <tr>\n",
       "      <th>2</th>\n",
       "      <td>859012e3-304f-4b03-9de6-ba30d2f854df</td>\n",
       "      <td>00GwU-BJbx-OTn3</td>\n",
       "      <td>19</td>\n",
       "      <td>tablet</td>\n",
       "      <td>ja</td>\n",
       "      <td>False</td>\n",
       "      <td>19-18</td>\n",
       "      <td>4</td>\n",
       "      <td>134</td>\n",
       "      <td>0.077764</td>\n",
       "      <td>0.072551</td>\n",
       "      <td>True</td>\n",
       "    </tr>\n",
       "    <tr>\n",
       "      <th>3</th>\n",
       "      <td>859012e3-304f-4b03-9de6-ba30d2f854df</td>\n",
       "      <td>00GwU-BJbx-OTn3</td>\n",
       "      <td>19</td>\n",
       "      <td>tablet</td>\n",
       "      <td>ja</td>\n",
       "      <td>False</td>\n",
       "      <td>19-17</td>\n",
       "      <td>4</td>\n",
       "      <td>90</td>\n",
       "      <td>0.102282</td>\n",
       "      <td>0.107368</td>\n",
       "      <td>False</td>\n",
       "    </tr>\n",
       "    <tr>\n",
       "      <th>4</th>\n",
       "      <td>859012e3-304f-4b03-9de6-ba30d2f854df</td>\n",
       "      <td>00GwU-BJbx-OTn3</td>\n",
       "      <td>19</td>\n",
       "      <td>tablet</td>\n",
       "      <td>ja</td>\n",
       "      <td>False</td>\n",
       "      <td>19-12</td>\n",
       "      <td>6</td>\n",
       "      <td>70</td>\n",
       "      <td>0.114556</td>\n",
       "      <td>0.121498</td>\n",
       "      <td>False</td>\n",
       "    </tr>\n",
       "  </tbody>\n",
       "</table>\n",
       "</div>"
      ],
      "text/plain": [
       "                             visitor_id         query_id  destination_id  \\\n",
       "0  859012e3-304f-4b03-9de6-ba30d2f854df  00GwU-BJbx-OTn3              19   \n",
       "1  859012e3-304f-4b03-9de6-ba30d2f854df  00GwU-BJbx-OTn3              19   \n",
       "2  859012e3-304f-4b03-9de6-ba30d2f854df  00GwU-BJbx-OTn3              19   \n",
       "3  859012e3-304f-4b03-9de6-ba30d2f854df  00GwU-BJbx-OTn3              19   \n",
       "4  859012e3-304f-4b03-9de6-ba30d2f854df  00GwU-BJbx-OTn3              19   \n",
       "\n",
       "   device language  has_been_referred product_code  product_category  \\\n",
       "0  tablet       ja              False         19-6                 8   \n",
       "1  tablet       ja              False        19-10                 3   \n",
       "2  tablet       ja              False        19-18                 4   \n",
       "3  tablet       ja              False        19-17                 4   \n",
       "4  tablet       ja              False        19-12                 6   \n",
       "\n",
       "   duration   ctr_14d   ctr_30d  clicked  \n",
       "0        54  0.118060  0.126892    False  \n",
       "1       267  0.114032  0.115280    False  \n",
       "2       134  0.077764  0.072551     True  \n",
       "3        90  0.102282  0.107368    False  \n",
       "4        70  0.114556  0.121498    False  "
      ]
     },
     "execution_count": 60,
     "metadata": {},
     "output_type": "execute_result"
    }
   ],
   "source": [
    "df.head()"
   ]
  },
  {
   "cell_type": "markdown",
   "id": "cadc16ea",
   "metadata": {},
   "source": [
    "# Process data"
   ]
  },
  {
   "cell_type": "code",
   "execution_count": 61,
   "id": "a4b8710c",
   "metadata": {},
   "outputs": [],
   "source": [
    "# Create mean-encoded variables based on device and product_category.\n",
    "# Done as device is static within query. Columns are only useful to LGBM Ranker models if there are variations within a query.\n",
    "\n",
    "def create_mean_encoded_variables(df, categorical_column, target_column):\n",
    "    return df.groupby(categorical_column)[target_column].transform('mean')\n",
    "\n",
    "df[\"device_prodcat_mean_encoded\"] = create_mean_encoded_variables(df, [\"device\", \"product_category\"], \"clicked\")\n",
    "df[\"language_prodcat_mean_encoded\"] = create_mean_encoded_variables(df, [\"language\", \"product_category\"], \"clicked\")"
   ]
  },
  {
   "cell_type": "code",
   "execution_count": 62,
   "id": "693066df",
   "metadata": {},
   "outputs": [],
   "source": [
    "df[\"product_category\"] = df[\"product_category\"].astype(\"category\")"
   ]
  },
  {
   "cell_type": "markdown",
   "id": "b56c7e95",
   "metadata": {},
   "source": [
    "# Validate data\n",
    "\n",
    "Please note that only a small amount of tests are written and I have not provided a full test suite that includes tests cases due to time constraints."
   ]
  },
  {
   "cell_type": "code",
   "execution_count": 63,
   "id": "33f7fc9c",
   "metadata": {},
   "outputs": [
    {
     "name": "stdout",
     "output_type": "stream",
     "text": [
      "Validating column 'product_category'\n",
      "Column 'product_category' is categorical (dtype: category)\n",
      "All columns are categorical.\n"
     ]
    }
   ],
   "source": [
    "utils_dataval.validate_categorical_columns(df, [\"product_category\"])"
   ]
  },
  {
   "cell_type": "code",
   "execution_count": 64,
   "id": "ae7ffaa4",
   "metadata": {},
   "outputs": [
    {
     "name": "stdout",
     "output_type": "stream",
     "text": [
      "Validating column 'ctr_14d'\n",
      "Validating column 'ctr_30d'\n",
      "All columns are float.\n"
     ]
    }
   ],
   "source": [
    "utils_dataval.validate_float_columns(df, [\"ctr_14d\", \"ctr_30d\"])"
   ]
  },
  {
   "cell_type": "code",
   "execution_count": 65,
   "id": "db3a68ca",
   "metadata": {},
   "outputs": [
    {
     "name": "stdout",
     "output_type": "stream",
     "text": [
      "Validating column 'ctr_14d'\n",
      "Validating column 'ctr_30d'\n",
      "All columns are float and within range.\n"
     ]
    }
   ],
   "source": [
    "column_range_dict = {\"ctr_14d\": {\"min\": 0, \"max\": 1}, \"ctr_30d\": {\"min\": 0, \"max\": 1}}\n",
    "utils_dataval.validate_float_range(df, column_range_dict)"
   ]
  },
  {
   "cell_type": "code",
   "execution_count": 66,
   "id": "341d1dbf",
   "metadata": {},
   "outputs": [
    {
     "name": "stdout",
     "output_type": "stream",
     "text": [
      "Validating column 'device'\n",
      "Validating column 'language'\n",
      "Validating column 'has_been_referred'\n",
      "All columns do not contain nulls.\n"
     ]
    }
   ],
   "source": [
    "utils_dataval.validate_no_nulls(df, [\"device\", \"language\", \"has_been_referred\"])"
   ]
  },
  {
   "cell_type": "markdown",
   "id": "664e4caa",
   "metadata": {},
   "source": [
    "# Split Data"
   ]
  },
  {
   "cell_type": "code",
   "execution_count": 67,
   "id": "ecab807d",
   "metadata": {},
   "outputs": [
    {
     "name": "stdout",
     "output_type": "stream",
     "text": [
      "Total queries: 10000\n",
      "Train queries: 2000 (20.0%)\n",
      "Test queries: 8000 (80.0%)\n"
     ]
    }
   ],
   "source": [
    "# For simplicity, randomly split the data into training and test sets by query_id.\n",
    "\n",
    "\n",
    "# Get unique query_ids\n",
    "unique_query_ids = df['query_id'].unique()\n",
    "\n",
    "# Split query_ids into train (80%) and test (20%)\n",
    "train_query_ids, test_query_ids = train_test_split(\n",
    "    unique_query_ids, \n",
    "    test_size=TRAIN_PROP, \n",
    "    random_state=RANDOM_STATE\n",
    ")\n",
    "\n",
    "# Create train and test dataframes based on query_id splits\n",
    "train_df = df[df['query_id'].isin(train_query_ids)].copy()\n",
    "test_df = df[df['query_id'].isin(test_query_ids)].copy()\n",
    "\n",
    "print(f\"Total queries: {len(unique_query_ids)}\")\n",
    "print(f\"Train queries: {len(train_query_ids)} ({len(train_query_ids)/len(unique_query_ids)*100:.1f}%)\")\n",
    "print(f\"Test queries: {len(test_query_ids)} ({len(test_query_ids)/len(unique_query_ids)*100:.1f}%)\")\n"
   ]
  },
  {
   "cell_type": "markdown",
   "id": "67257bf1",
   "metadata": {},
   "source": [
    "# Save data"
   ]
  },
  {
   "cell_type": "code",
   "execution_count": 68,
   "id": "514bb385",
   "metadata": {},
   "outputs": [],
   "source": [
    "# Save model_df to data/model_df.csv. Parquet likely a better choice, but using csv for simplicity and to reduce dependencies.\n",
    "train_df.to_csv('../data/train_df.csv', index=False)\n",
    "test_df.to_csv('../data/test_df.csv', index=False)"
   ]
  }
 ],
 "metadata": {
  "kernelspec": {
   "display_name": "loveholidays",
   "language": "python",
   "name": "python3"
  },
  "language_info": {
   "codemirror_mode": {
    "name": "ipython",
    "version": 3
   },
   "file_extension": ".py",
   "mimetype": "text/x-python",
   "name": "python",
   "nbconvert_exporter": "python",
   "pygments_lexer": "ipython3",
   "version": "3.11.13"
  }
 },
 "nbformat": 4,
 "nbformat_minor": 5
}
