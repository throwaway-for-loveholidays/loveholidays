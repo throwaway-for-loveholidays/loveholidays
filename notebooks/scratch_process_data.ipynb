{
 "cells": [
  {
   "cell_type": "markdown",
   "id": "670afcb8",
   "metadata": {},
   "source": [
    "Please note that I'd usually first screen the data via tools like ydata-profiling, which is a check not performed in this sample code."
   ]
  },
  {
   "cell_type": "markdown",
   "id": "89e2377d",
   "metadata": {},
   "source": [
    "# Module imports"
   ]
  },
  {
   "cell_type": "code",
   "execution_count": 17,
   "id": "f7222b8f",
   "metadata": {},
   "outputs": [],
   "source": [
    "import os\n",
    "import pandas as pd\n",
    "import sys\n",
    "import yaml\n",
    "\n",
    "from sklearn.model_selection import train_test_split\n"
   ]
  },
  {
   "cell_type": "code",
   "execution_count": 18,
   "id": "7c2b662d",
   "metadata": {},
   "outputs": [],
   "source": [
    "# Add the src folder to the path\n",
    "sys.path.append(os.path.join(os.path.dirname(os.getcwd()), 'src'))"
   ]
  },
  {
   "cell_type": "code",
   "execution_count": 19,
   "id": "c2fc3c3e",
   "metadata": {},
   "outputs": [],
   "source": [
    "import utils.data_validation as utils_dataval"
   ]
  },
  {
   "cell_type": "code",
   "execution_count": 20,
   "id": "4622c698",
   "metadata": {},
   "outputs": [],
   "source": [
    "with open('../config.yaml', 'r') as file:\n",
    "    config = yaml.safe_load(file)\n"
   ]
  },
  {
   "cell_type": "markdown",
   "id": "ddd4d86b",
   "metadata": {},
   "source": [
    "# Constants"
   ]
  },
  {
   "cell_type": "code",
   "execution_count": 21,
   "id": "1f031c4d",
   "metadata": {},
   "outputs": [],
   "source": [
    "TRAIN_PROP = 0.8\n",
    "RANDOM_STATE = 42"
   ]
  },
  {
   "cell_type": "markdown",
   "id": "aba7cb22",
   "metadata": {},
   "source": [
    "# Load data"
   ]
  },
  {
   "cell_type": "code",
   "execution_count": 22,
   "id": "b7054c61",
   "metadata": {},
   "outputs": [],
   "source": [
    "df = pd.read_csv('../data/model_df.csv')"
   ]
  },
  {
   "cell_type": "code",
   "execution_count": 23,
   "id": "78d42ea9",
   "metadata": {},
   "outputs": [
    {
     "data": {
      "text/html": [
       "<div>\n",
       "<style scoped>\n",
       "    .dataframe tbody tr th:only-of-type {\n",
       "        vertical-align: middle;\n",
       "    }\n",
       "\n",
       "    .dataframe tbody tr th {\n",
       "        vertical-align: top;\n",
       "    }\n",
       "\n",
       "    .dataframe thead th {\n",
       "        text-align: right;\n",
       "    }\n",
       "</style>\n",
       "<table border=\"1\" class=\"dataframe\">\n",
       "  <thead>\n",
       "    <tr style=\"text-align: right;\">\n",
       "      <th></th>\n",
       "      <th>visitor_id</th>\n",
       "      <th>query_id</th>\n",
       "      <th>destination_id</th>\n",
       "      <th>device</th>\n",
       "      <th>language</th>\n",
       "      <th>product_code</th>\n",
       "      <th>product_category</th>\n",
       "      <th>duration</th>\n",
       "      <th>ctr_14d</th>\n",
       "      <th>ctr_30d</th>\n",
       "      <th>clicked</th>\n",
       "    </tr>\n",
       "  </thead>\n",
       "  <tbody>\n",
       "    <tr>\n",
       "      <th>0</th>\n",
       "      <td>e20b98b6-f567-4780-b794-b764cb8f817a</td>\n",
       "      <td>0003S-UcYv-V9CH</td>\n",
       "      <td>7</td>\n",
       "      <td>mobile</td>\n",
       "      <td>fr</td>\n",
       "      <td>7-34</td>\n",
       "      <td>4</td>\n",
       "      <td>263</td>\n",
       "      <td>0.088589</td>\n",
       "      <td>0.086260</td>\n",
       "      <td>0</td>\n",
       "    </tr>\n",
       "    <tr>\n",
       "      <th>1</th>\n",
       "      <td>e20b98b6-f567-4780-b794-b764cb8f817a</td>\n",
       "      <td>0003S-UcYv-V9CH</td>\n",
       "      <td>7</td>\n",
       "      <td>mobile</td>\n",
       "      <td>fr</td>\n",
       "      <td>7-11</td>\n",
       "      <td>3</td>\n",
       "      <td>187</td>\n",
       "      <td>0.091653</td>\n",
       "      <td>0.098138</td>\n",
       "      <td>0</td>\n",
       "    </tr>\n",
       "    <tr>\n",
       "      <th>2</th>\n",
       "      <td>e20b98b6-f567-4780-b794-b764cb8f817a</td>\n",
       "      <td>0003S-UcYv-V9CH</td>\n",
       "      <td>7</td>\n",
       "      <td>mobile</td>\n",
       "      <td>fr</td>\n",
       "      <td>7-9</td>\n",
       "      <td>10</td>\n",
       "      <td>131</td>\n",
       "      <td>0.079760</td>\n",
       "      <td>0.080651</td>\n",
       "      <td>0</td>\n",
       "    </tr>\n",
       "    <tr>\n",
       "      <th>3</th>\n",
       "      <td>e20b98b6-f567-4780-b794-b764cb8f817a</td>\n",
       "      <td>0003S-UcYv-V9CH</td>\n",
       "      <td>7</td>\n",
       "      <td>mobile</td>\n",
       "      <td>fr</td>\n",
       "      <td>7-19</td>\n",
       "      <td>10</td>\n",
       "      <td>253</td>\n",
       "      <td>0.094435</td>\n",
       "      <td>0.094269</td>\n",
       "      <td>1</td>\n",
       "    </tr>\n",
       "    <tr>\n",
       "      <th>4</th>\n",
       "      <td>e20b98b6-f567-4780-b794-b764cb8f817a</td>\n",
       "      <td>0003S-UcYv-V9CH</td>\n",
       "      <td>7</td>\n",
       "      <td>mobile</td>\n",
       "      <td>fr</td>\n",
       "      <td>7-33</td>\n",
       "      <td>5</td>\n",
       "      <td>242</td>\n",
       "      <td>0.108431</td>\n",
       "      <td>0.118036</td>\n",
       "      <td>0</td>\n",
       "    </tr>\n",
       "  </tbody>\n",
       "</table>\n",
       "</div>"
      ],
      "text/plain": [
       "                             visitor_id         query_id  destination_id  \\\n",
       "0  e20b98b6-f567-4780-b794-b764cb8f817a  0003S-UcYv-V9CH               7   \n",
       "1  e20b98b6-f567-4780-b794-b764cb8f817a  0003S-UcYv-V9CH               7   \n",
       "2  e20b98b6-f567-4780-b794-b764cb8f817a  0003S-UcYv-V9CH               7   \n",
       "3  e20b98b6-f567-4780-b794-b764cb8f817a  0003S-UcYv-V9CH               7   \n",
       "4  e20b98b6-f567-4780-b794-b764cb8f817a  0003S-UcYv-V9CH               7   \n",
       "\n",
       "   device language product_code  product_category  duration   ctr_14d  \\\n",
       "0  mobile       fr         7-34                 4       263  0.088589   \n",
       "1  mobile       fr         7-11                 3       187  0.091653   \n",
       "2  mobile       fr          7-9                10       131  0.079760   \n",
       "3  mobile       fr         7-19                10       253  0.094435   \n",
       "4  mobile       fr         7-33                 5       242  0.108431   \n",
       "\n",
       "    ctr_30d  clicked  \n",
       "0  0.086260        0  \n",
       "1  0.098138        0  \n",
       "2  0.080651        0  \n",
       "3  0.094269        1  \n",
       "4  0.118036        0  "
      ]
     },
     "execution_count": 23,
     "metadata": {},
     "output_type": "execute_result"
    }
   ],
   "source": [
    "df.head()"
   ]
  },
  {
   "cell_type": "markdown",
   "id": "cadc16ea",
   "metadata": {},
   "source": [
    "# Process data"
   ]
  },
  {
   "cell_type": "code",
   "execution_count": 24,
   "id": "a4b8710c",
   "metadata": {},
   "outputs": [],
   "source": [
    "# Create mean-encoded variables based on device and product_category.\n",
    "# Done as device is static within query. Columns are only useful to LGBM Ranker models if there are variations within a query.\n",
    "\n",
    "def create_mean_encoded_variables(df, categorical_column, target_column):\n",
    "    return df.groupby(categorical_column)[target_column].transform('mean')\n",
    "\n",
    "df[\"device_prodcat_mean_encoded\"] = create_mean_encoded_variables(df, [\"device\", \"product_category\"], \"clicked\")\n",
    "df[\"language_prodcat_mean_encoded\"] = create_mean_encoded_variables(df, [\"language\", \"product_category\"], \"clicked\")"
   ]
  },
  {
   "cell_type": "code",
   "execution_count": 25,
   "id": "693066df",
   "metadata": {},
   "outputs": [],
   "source": [
    "df[\"product_category\"] = df[\"product_category\"].astype(\"category\")"
   ]
  },
  {
   "cell_type": "markdown",
   "id": "b56c7e95",
   "metadata": {},
   "source": [
    "# Validate data\n",
    "\n",
    "Please note that only a small amount of tests are written and I have not provided a full test suite that includes tests cases due to time constraints."
   ]
  },
  {
   "cell_type": "code",
   "execution_count": 26,
   "id": "33f7fc9c",
   "metadata": {},
   "outputs": [
    {
     "name": "stdout",
     "output_type": "stream",
     "text": [
      "Validating column 'product_category'\n",
      "Column 'product_category' is categorical (dtype: category)\n",
      "All columns are categorical.\n"
     ]
    }
   ],
   "source": [
    "utils_dataval.validate_categorical_columns(df, config[\"categorical_cols\"])"
   ]
  },
  {
   "cell_type": "code",
   "execution_count": 27,
   "id": "ae7ffaa4",
   "metadata": {},
   "outputs": [
    {
     "name": "stdout",
     "output_type": "stream",
     "text": [
      "Validating column 'ctr_14d'\n",
      "Validating column 'ctr_30d'\n",
      "Validating column 'device_prodcat_mean_encoded'\n",
      "Validating column 'language_prodcat_mean_encoded'\n",
      "All columns are float.\n"
     ]
    }
   ],
   "source": [
    "utils_dataval.validate_float_columns(df, config[\"float_cols\"])"
   ]
  },
  {
   "cell_type": "code",
   "execution_count": 28,
   "id": "db3a68ca",
   "metadata": {},
   "outputs": [
    {
     "name": "stdout",
     "output_type": "stream",
     "text": [
      "Validating column 'ctr_14d'\n",
      "Validating column 'ctr_30d'\n",
      "All columns are float and within range.\n"
     ]
    }
   ],
   "source": [
    "column_range_dict = {\"ctr_14d\": {\"min\": 0, \"max\": 1}, \"ctr_30d\": {\"min\": 0, \"max\": 1}} # Just some examples\n",
    "utils_dataval.validate_float_range(df, column_range_dict)"
   ]
  },
  {
   "cell_type": "code",
   "execution_count": 29,
   "id": "341d1dbf",
   "metadata": {},
   "outputs": [
    {
     "name": "stdout",
     "output_type": "stream",
     "text": [
      "Validating column 'ctr_14d'\n",
      "Validating column 'ctr_30d'\n",
      "Validating column 'device_prodcat_mean_encoded'\n",
      "Validating column 'language_prodcat_mean_encoded'\n",
      "Validating column 'duration'\n",
      "Validating column 'product_category'\n",
      "All columns do not contain nulls.\n"
     ]
    }
   ],
   "source": [
    "utils_dataval.validate_no_nulls(df, config[\"float_cols\"] + config[\"integer_cols\"] + config[\"categorical_cols\"])"
   ]
  },
  {
   "cell_type": "markdown",
   "id": "664e4caa",
   "metadata": {},
   "source": [
    "# Split Data"
   ]
  },
  {
   "cell_type": "code",
   "execution_count": 30,
   "id": "ecab807d",
   "metadata": {},
   "outputs": [
    {
     "name": "stdout",
     "output_type": "stream",
     "text": [
      "Total queries: 10000\n",
      "Train queries: 8000 (80.0%)\n",
      "Val queries: 1000 (10.0%)\n",
      "Test queries: 1000 (10.0%)\n"
     ]
    }
   ],
   "source": [
    "# For simplicity, randomly split the data into training, validation, and test sets by query_id.\n",
    "# Get unique query_ids\n",
    "unique_query_ids = df['query_id'].unique()\n",
    "\n",
    "# Split query_ids into train (80%), val (10%), and test (10%)\n",
    "# First split: 80% train, 20% temp (which will be split into val and test)\n",
    "train_query_ids, temp_query_ids = train_test_split(\n",
    "    unique_query_ids, \n",
    "    test_size=0.2, \n",
    "    random_state=RANDOM_STATE\n",
    ")\n",
    "\n",
    "# Second split: split the 20% temp into 10% val and 10% test\n",
    "val_query_ids, test_query_ids = train_test_split(\n",
    "    temp_query_ids, \n",
    "    test_size=0.5, \n",
    "    random_state=RANDOM_STATE\n",
    ")\n",
    "\n",
    "# Create train, val, and test dataframes based on query_id splits\n",
    "train_df = df[df['query_id'].isin(train_query_ids)].copy()\n",
    "val_df = df[df['query_id'].isin(val_query_ids)].copy()\n",
    "test_df = df[df['query_id'].isin(test_query_ids)].copy()\n",
    "\n",
    "print(f\"Total queries: {len(unique_query_ids)}\")\n",
    "print(f\"Train queries: {len(train_query_ids)} ({len(train_query_ids)/len(unique_query_ids)*100:.1f}%)\")\n",
    "print(f\"Val queries: {len(val_query_ids)} ({len(val_query_ids)/len(unique_query_ids)*100:.1f}%)\")\n",
    "print(f\"Test queries: {len(test_query_ids)} ({len(test_query_ids)/len(unique_query_ids)*100:.1f}%)\")\n"
   ]
  },
  {
   "cell_type": "code",
   "execution_count": 31,
   "id": "1d1f6c55",
   "metadata": {},
   "outputs": [],
   "source": [
    "train_df = train_df[config[\"non_feature_cols\"] + config[\"float_cols\"] + config[\"integer_cols\"] + config[\"categorical_cols\"] + [config[\"target_col\"]]]\n",
    "val_df = val_df[config[\"non_feature_cols\"] + config[\"float_cols\"] + config[\"integer_cols\"] + config[\"categorical_cols\"] + [config[\"target_col\"]]]\n",
    "test_df = test_df[config[\"non_feature_cols\"] + config[\"float_cols\"] + config[\"integer_cols\"] + config[\"categorical_cols\"] + [config[\"target_col\"]]]"
   ]
  },
  {
   "cell_type": "code",
   "execution_count": 32,
   "id": "c5d3d509",
   "metadata": {},
   "outputs": [],
   "source": [
    "# One final change to ensure train_df, val_df, and test_df are all sorted by query_id.\n",
    "# Not a robust solution but probably good enough for now.\n",
    "\n",
    "train_df = train_df.sort_values(by=\"query_id\")\n",
    "val_df = val_df.sort_values(by=\"query_id\")\n",
    "test_df = test_df.sort_values(by=\"query_id\")"
   ]
  },
  {
   "cell_type": "markdown",
   "id": "67257bf1",
   "metadata": {},
   "source": [
    "# Save data"
   ]
  },
  {
   "cell_type": "code",
   "execution_count": 33,
   "id": "514bb385",
   "metadata": {},
   "outputs": [],
   "source": [
    "# Save model_df to data/model_df.csv. Parquet likely a better choice, but using csv for simplicity and to reduce dependencies.\n",
    "train_df.to_csv('../data/train_df.csv', index=False)\n",
    "val_df.to_csv('../data/val_df.csv', index=False)\n",
    "test_df.to_csv('../data/test_df.csv', index=False)"
   ]
  }
 ],
 "metadata": {
  "kernelspec": {
   "display_name": "loveholidays",
   "language": "python",
   "name": "python3"
  },
  "language_info": {
   "codemirror_mode": {
    "name": "ipython",
    "version": 3
   },
   "file_extension": ".py",
   "mimetype": "text/x-python",
   "name": "python",
   "nbconvert_exporter": "python",
   "pygments_lexer": "ipython3",
   "version": "3.11.13"
  }
 },
 "nbformat": 4,
 "nbformat_minor": 5
}
